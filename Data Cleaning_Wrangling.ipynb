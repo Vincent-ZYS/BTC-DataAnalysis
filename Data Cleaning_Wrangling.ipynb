{
 "cells": [
  {
   "cell_type": "code",
   "execution_count": 82,
   "metadata": {},
   "outputs": [],
   "source": [
    "#Yunsheng Zou Responsible for Data Cleaning\n",
    "import pandas as pd\n",
    "import numpy as np"
   ]
  },
  {
   "cell_type": "code",
   "execution_count": 83,
   "metadata": {},
   "outputs": [],
   "source": [
    "bitstamp = pd.read_csv('bitstampUSD.csv')\n",
    "coinbase = pd.read_csv('coinbaseUSD.csv')"
   ]
  },
  {
   "cell_type": "code",
   "execution_count": 85,
   "metadata": {},
   "outputs": [
    {
     "output_type": "execute_result",
     "data": {
      "text/plain": "    Timestamp  Open  High   Low  Close  Volume_(BTC)  Volume_(Currency)  \\\n0  1325317920  4.39  4.39  4.39   4.39      0.455581                2.0   \n1  1325317980   NaN   NaN   NaN    NaN           NaN                NaN   \n2  1325318040   NaN   NaN   NaN    NaN           NaN                NaN   \n3  1325318100   NaN   NaN   NaN    NaN           NaN                NaN   \n4  1325318160   NaN   NaN   NaN    NaN           NaN                NaN   \n\n   Weighted_Price  \n0            4.39  \n1             NaN  \n2             NaN  \n3             NaN  \n4             NaN  ",
      "text/html": "<div>\n<style scoped>\n    .dataframe tbody tr th:only-of-type {\n        vertical-align: middle;\n    }\n\n    .dataframe tbody tr th {\n        vertical-align: top;\n    }\n\n    .dataframe thead th {\n        text-align: right;\n    }\n</style>\n<table border=\"1\" class=\"dataframe\">\n  <thead>\n    <tr style=\"text-align: right;\">\n      <th></th>\n      <th>Timestamp</th>\n      <th>Open</th>\n      <th>High</th>\n      <th>Low</th>\n      <th>Close</th>\n      <th>Volume_(BTC)</th>\n      <th>Volume_(Currency)</th>\n      <th>Weighted_Price</th>\n    </tr>\n  </thead>\n  <tbody>\n    <tr>\n      <th>0</th>\n      <td>1325317920</td>\n      <td>4.39</td>\n      <td>4.39</td>\n      <td>4.39</td>\n      <td>4.39</td>\n      <td>0.455581</td>\n      <td>2.0</td>\n      <td>4.39</td>\n    </tr>\n    <tr>\n      <th>1</th>\n      <td>1325317980</td>\n      <td>NaN</td>\n      <td>NaN</td>\n      <td>NaN</td>\n      <td>NaN</td>\n      <td>NaN</td>\n      <td>NaN</td>\n      <td>NaN</td>\n    </tr>\n    <tr>\n      <th>2</th>\n      <td>1325318040</td>\n      <td>NaN</td>\n      <td>NaN</td>\n      <td>NaN</td>\n      <td>NaN</td>\n      <td>NaN</td>\n      <td>NaN</td>\n      <td>NaN</td>\n    </tr>\n    <tr>\n      <th>3</th>\n      <td>1325318100</td>\n      <td>NaN</td>\n      <td>NaN</td>\n      <td>NaN</td>\n      <td>NaN</td>\n      <td>NaN</td>\n      <td>NaN</td>\n      <td>NaN</td>\n    </tr>\n    <tr>\n      <th>4</th>\n      <td>1325318160</td>\n      <td>NaN</td>\n      <td>NaN</td>\n      <td>NaN</td>\n      <td>NaN</td>\n      <td>NaN</td>\n      <td>NaN</td>\n      <td>NaN</td>\n    </tr>\n  </tbody>\n</table>\n</div>"
     },
     "metadata": {},
     "execution_count": 85
    }
   ],
   "source": [
    "bitstamp.head()"
   ]
  },
  {
   "cell_type": "code",
   "execution_count": 86,
   "metadata": {},
   "outputs": [
    {
     "output_type": "execute_result",
     "data": {
      "text/plain": "    Timestamp   Open   High    Low  Close  Volume_(BTC)  Volume_(Currency)  \\\n0  1417411980  300.0  300.0  300.0  300.0          0.01                3.0   \n1  1417412040    NaN    NaN    NaN    NaN           NaN                NaN   \n2  1417412100    NaN    NaN    NaN    NaN           NaN                NaN   \n3  1417412160    NaN    NaN    NaN    NaN           NaN                NaN   \n4  1417412220    NaN    NaN    NaN    NaN           NaN                NaN   \n\n   Weighted_Price  \n0           300.0  \n1             NaN  \n2             NaN  \n3             NaN  \n4             NaN  ",
      "text/html": "<div>\n<style scoped>\n    .dataframe tbody tr th:only-of-type {\n        vertical-align: middle;\n    }\n\n    .dataframe tbody tr th {\n        vertical-align: top;\n    }\n\n    .dataframe thead th {\n        text-align: right;\n    }\n</style>\n<table border=\"1\" class=\"dataframe\">\n  <thead>\n    <tr style=\"text-align: right;\">\n      <th></th>\n      <th>Timestamp</th>\n      <th>Open</th>\n      <th>High</th>\n      <th>Low</th>\n      <th>Close</th>\n      <th>Volume_(BTC)</th>\n      <th>Volume_(Currency)</th>\n      <th>Weighted_Price</th>\n    </tr>\n  </thead>\n  <tbody>\n    <tr>\n      <th>0</th>\n      <td>1417411980</td>\n      <td>300.0</td>\n      <td>300.0</td>\n      <td>300.0</td>\n      <td>300.0</td>\n      <td>0.01</td>\n      <td>3.0</td>\n      <td>300.0</td>\n    </tr>\n    <tr>\n      <th>1</th>\n      <td>1417412040</td>\n      <td>NaN</td>\n      <td>NaN</td>\n      <td>NaN</td>\n      <td>NaN</td>\n      <td>NaN</td>\n      <td>NaN</td>\n      <td>NaN</td>\n    </tr>\n    <tr>\n      <th>2</th>\n      <td>1417412100</td>\n      <td>NaN</td>\n      <td>NaN</td>\n      <td>NaN</td>\n      <td>NaN</td>\n      <td>NaN</td>\n      <td>NaN</td>\n      <td>NaN</td>\n    </tr>\n    <tr>\n      <th>3</th>\n      <td>1417412160</td>\n      <td>NaN</td>\n      <td>NaN</td>\n      <td>NaN</td>\n      <td>NaN</td>\n      <td>NaN</td>\n      <td>NaN</td>\n      <td>NaN</td>\n    </tr>\n    <tr>\n      <th>4</th>\n      <td>1417412220</td>\n      <td>NaN</td>\n      <td>NaN</td>\n      <td>NaN</td>\n      <td>NaN</td>\n      <td>NaN</td>\n      <td>NaN</td>\n      <td>NaN</td>\n    </tr>\n  </tbody>\n</table>\n</div>"
     },
     "metadata": {},
     "execution_count": 86
    }
   ],
   "source": [
    "coinbase.head()"
   ]
  },
  {
   "cell_type": "code",
   "execution_count": 47,
   "metadata": {},
   "outputs": [],
   "source": [
    "bitstamp['Timestamp']=pd.to_datetime(bitstamp['Timestamp'],unit='s')\n",
    "coinbase['Timestamp']=pd.to_datetime(coinbase['Timestamp'],unit='s')"
   ]
  },
  {
   "cell_type": "code",
   "execution_count": 57,
   "metadata": {},
   "outputs": [
    {
     "output_type": "execute_result",
     "data": {
      "text/plain": "            Timestamp   Open   High    Low  Close  Volume_(BTC)  \\\n0 2014-12-01 05:33:00  300.0  300.0  300.0  300.0          0.01   \n1 2014-12-01 05:34:00  300.0  300.0  300.0  300.0          0.01   \n2 2014-12-01 05:35:00  300.0  300.0  300.0  300.0          0.01   \n3 2014-12-01 05:36:00  300.0  300.0  300.0  300.0          0.01   \n4 2014-12-01 05:37:00  300.0  300.0  300.0  300.0          0.01   \n\n   Volume_(Currency)  Weighted_Price  \n0                3.0           300.0  \n1                3.0           300.0  \n2                3.0           300.0  \n3                3.0           300.0  \n4                3.0           300.0  ",
      "text/html": "<div>\n<style scoped>\n    .dataframe tbody tr th:only-of-type {\n        vertical-align: middle;\n    }\n\n    .dataframe tbody tr th {\n        vertical-align: top;\n    }\n\n    .dataframe thead th {\n        text-align: right;\n    }\n</style>\n<table border=\"1\" class=\"dataframe\">\n  <thead>\n    <tr style=\"text-align: right;\">\n      <th></th>\n      <th>Timestamp</th>\n      <th>Open</th>\n      <th>High</th>\n      <th>Low</th>\n      <th>Close</th>\n      <th>Volume_(BTC)</th>\n      <th>Volume_(Currency)</th>\n      <th>Weighted_Price</th>\n    </tr>\n  </thead>\n  <tbody>\n    <tr>\n      <th>0</th>\n      <td>2014-12-01 05:33:00</td>\n      <td>300.0</td>\n      <td>300.0</td>\n      <td>300.0</td>\n      <td>300.0</td>\n      <td>0.01</td>\n      <td>3.0</td>\n      <td>300.0</td>\n    </tr>\n    <tr>\n      <th>1</th>\n      <td>2014-12-01 05:34:00</td>\n      <td>300.0</td>\n      <td>300.0</td>\n      <td>300.0</td>\n      <td>300.0</td>\n      <td>0.01</td>\n      <td>3.0</td>\n      <td>300.0</td>\n    </tr>\n    <tr>\n      <th>2</th>\n      <td>2014-12-01 05:35:00</td>\n      <td>300.0</td>\n      <td>300.0</td>\n      <td>300.0</td>\n      <td>300.0</td>\n      <td>0.01</td>\n      <td>3.0</td>\n      <td>300.0</td>\n    </tr>\n    <tr>\n      <th>3</th>\n      <td>2014-12-01 05:36:00</td>\n      <td>300.0</td>\n      <td>300.0</td>\n      <td>300.0</td>\n      <td>300.0</td>\n      <td>0.01</td>\n      <td>3.0</td>\n      <td>300.0</td>\n    </tr>\n    <tr>\n      <th>4</th>\n      <td>2014-12-01 05:37:00</td>\n      <td>300.0</td>\n      <td>300.0</td>\n      <td>300.0</td>\n      <td>300.0</td>\n      <td>0.01</td>\n      <td>3.0</td>\n      <td>300.0</td>\n    </tr>\n  </tbody>\n</table>\n</div>"
     },
     "metadata": {},
     "execution_count": 57
    }
   ],
   "source": [
    "coinbase.head()\n",
    "#bitstamp.head()"
   ]
  },
  {
   "cell_type": "code",
   "execution_count": 58,
   "metadata": {},
   "outputs": [],
   "source": [
    "bitstamp=bitstamp.fillna(method='bfill')\n",
    "coinbase=coinbase.fillna(method='bfill')"
   ]
  },
  {
   "cell_type": "code",
   "execution_count": 73,
   "metadata": {},
   "outputs": [
    {
     "output_type": "execute_result",
     "data": {
      "text/plain": "            Timestamp   Open   High    Low  Close  Volume_(BTC)  \\\n0 2014-12-01 05:33:00  300.0  300.0  300.0  300.0          0.01   \n1 2014-12-01 05:34:00  300.0  300.0  300.0  300.0          0.01   \n2 2014-12-01 05:35:00  300.0  300.0  300.0  300.0          0.01   \n3 2014-12-01 05:36:00  300.0  300.0  300.0  300.0          0.01   \n4 2014-12-01 05:37:00  300.0  300.0  300.0  300.0          0.01   \n\n   Volume_(Currency)  Weighted_Price  \n0                3.0           300.0  \n1                3.0           300.0  \n2                3.0           300.0  \n3                3.0           300.0  \n4                3.0           300.0  ",
      "text/html": "<div>\n<style scoped>\n    .dataframe tbody tr th:only-of-type {\n        vertical-align: middle;\n    }\n\n    .dataframe tbody tr th {\n        vertical-align: top;\n    }\n\n    .dataframe thead th {\n        text-align: right;\n    }\n</style>\n<table border=\"1\" class=\"dataframe\">\n  <thead>\n    <tr style=\"text-align: right;\">\n      <th></th>\n      <th>Timestamp</th>\n      <th>Open</th>\n      <th>High</th>\n      <th>Low</th>\n      <th>Close</th>\n      <th>Volume_(BTC)</th>\n      <th>Volume_(Currency)</th>\n      <th>Weighted_Price</th>\n    </tr>\n  </thead>\n  <tbody>\n    <tr>\n      <th>0</th>\n      <td>2014-12-01 05:33:00</td>\n      <td>300.0</td>\n      <td>300.0</td>\n      <td>300.0</td>\n      <td>300.0</td>\n      <td>0.01</td>\n      <td>3.0</td>\n      <td>300.0</td>\n    </tr>\n    <tr>\n      <th>1</th>\n      <td>2014-12-01 05:34:00</td>\n      <td>300.0</td>\n      <td>300.0</td>\n      <td>300.0</td>\n      <td>300.0</td>\n      <td>0.01</td>\n      <td>3.0</td>\n      <td>300.0</td>\n    </tr>\n    <tr>\n      <th>2</th>\n      <td>2014-12-01 05:35:00</td>\n      <td>300.0</td>\n      <td>300.0</td>\n      <td>300.0</td>\n      <td>300.0</td>\n      <td>0.01</td>\n      <td>3.0</td>\n      <td>300.0</td>\n    </tr>\n    <tr>\n      <th>3</th>\n      <td>2014-12-01 05:36:00</td>\n      <td>300.0</td>\n      <td>300.0</td>\n      <td>300.0</td>\n      <td>300.0</td>\n      <td>0.01</td>\n      <td>3.0</td>\n      <td>300.0</td>\n    </tr>\n    <tr>\n      <th>4</th>\n      <td>2014-12-01 05:37:00</td>\n      <td>300.0</td>\n      <td>300.0</td>\n      <td>300.0</td>\n      <td>300.0</td>\n      <td>0.01</td>\n      <td>3.0</td>\n      <td>300.0</td>\n    </tr>\n  </tbody>\n</table>\n</div>"
     },
     "metadata": {},
     "execution_count": 73
    }
   ],
   "source": [
    "coinbase.head()\n",
    "#bitstamp.head()"
   ]
  },
  {
   "cell_type": "code",
   "execution_count": 75,
   "metadata": {},
   "outputs": [],
   "source": [
    "#Jiongjie Jiang responsible for Data wrangling\n",
    "from datetime import datetime\n",
    "\n",
    "data_from = pd.Timestamp(datetime(2017,1,1))\n",
    "data_to = pd.Timestamp(datetime(2019,1,1))\n",
    "data_cut_from=pd.Timestamp(datetime(2014,12,1,5,33,0))\n",
    "data_cut_to=pd.Timestamp(datetime(2019,1,7,22,6,0))\n"
   ]
  },
  {
   "cell_type": "code",
   "execution_count": 76,
   "metadata": {},
   "outputs": [],
   "source": [
    "coinbase=coinbase[(coinbase['Timestamp']>=data_cut_from)&(coinbase['Timestamp']<=data_cut_to)]\n",
    "bitstamp=bitstamp[(bitstamp['Timestamp']>=data_cut_from)&(bitstamp['Timestamp']<=data_cut_to)]\n",
    "CoinB_wannaCry = coinbase[(coinbase['Timestamp']>data_from)&(coinbase['Timestamp']<data_to)]\n",
    "BitS_wannaCry = bitstamp[(bitstamp['Timestamp']>data_from)&(bitstamp['Timestamp']<data_to)]"
   ]
  },
  {
   "cell_type": "code",
   "execution_count": 77,
   "metadata": {},
   "outputs": [],
   "source": [
    "BitS_wannaCry=BitS_wannaCry.dropna()\n",
    "CoinB_wannaCry=CoinB_wannaCry.dropna()"
   ]
  },
  {
   "cell_type": "code",
   "execution_count": 87,
   "metadata": {},
   "outputs": [
    {
     "output_type": "execute_result",
     "data": {
      "text/plain": "0.716514451729443"
     },
     "metadata": {},
     "execution_count": 87
    }
   ],
   "source": [
    "len(bitstamp.dropna())/len(bitstamp)"
   ]
  },
  {
   "cell_type": "code",
   "execution_count": 88,
   "metadata": {},
   "outputs": [
    {
     "output_type": "execute_result",
     "data": {
      "text/plain": "0.9480564445460433"
     },
     "metadata": {},
     "execution_count": 88
    }
   ],
   "source": [
    "len(coinbase.dropna())/len(coinbase)"
   ]
  },
  {
   "cell_type": "code",
   "execution_count": 9,
   "metadata": {},
   "outputs": [
    {
     "data": {
      "text/html": [
       "<div>\n",
       "<style scoped>\n",
       "    .dataframe tbody tr th:only-of-type {\n",
       "        vertical-align: middle;\n",
       "    }\n",
       "\n",
       "    .dataframe tbody tr th {\n",
       "        vertical-align: top;\n",
       "    }\n",
       "\n",
       "    .dataframe thead th {\n",
       "        text-align: right;\n",
       "    }\n",
       "</style>\n",
       "<table border=\"1\" class=\"dataframe\">\n",
       "  <thead>\n",
       "    <tr style=\"text-align: right;\">\n",
       "      <th></th>\n",
       "      <th>Open</th>\n",
       "      <th>High</th>\n",
       "      <th>Low</th>\n",
       "      <th>Close</th>\n",
       "      <th>Volume_(BTC)</th>\n",
       "      <th>Volume_(Currency)</th>\n",
       "      <th>Weighted_Price</th>\n",
       "    </tr>\n",
       "  </thead>\n",
       "  <tbody>\n",
       "    <tr>\n",
       "      <th>count</th>\n",
       "      <td>1.038595e+06</td>\n",
       "      <td>1.038595e+06</td>\n",
       "      <td>1.038595e+06</td>\n",
       "      <td>1.038595e+06</td>\n",
       "      <td>1.038595e+06</td>\n",
       "      <td>1.038595e+06</td>\n",
       "      <td>1.038595e+06</td>\n",
       "    </tr>\n",
       "    <tr>\n",
       "      <th>mean</th>\n",
       "      <td>5.793113e+03</td>\n",
       "      <td>5.795738e+03</td>\n",
       "      <td>5.790272e+03</td>\n",
       "      <td>5.793112e+03</td>\n",
       "      <td>9.962399e+00</td>\n",
       "      <td>6.672801e+04</td>\n",
       "      <td>5.793001e+03</td>\n",
       "    </tr>\n",
       "    <tr>\n",
       "      <th>std</th>\n",
       "      <td>3.736820e+03</td>\n",
       "      <td>3.739472e+03</td>\n",
       "      <td>3.734008e+03</td>\n",
       "      <td>3.736814e+03</td>\n",
       "      <td>2.096921e+01</td>\n",
       "      <td>1.887004e+05</td>\n",
       "      <td>3.736744e+03</td>\n",
       "    </tr>\n",
       "    <tr>\n",
       "      <th>min</th>\n",
       "      <td>6.000000e-02</td>\n",
       "      <td>6.000000e-02</td>\n",
       "      <td>6.000000e-02</td>\n",
       "      <td>6.000000e-02</td>\n",
       "      <td>8.000000e-08</td>\n",
       "      <td>6.595840e-05</td>\n",
       "      <td>6.000000e-02</td>\n",
       "    </tr>\n",
       "    <tr>\n",
       "      <th>25%</th>\n",
       "      <td>2.602120e+03</td>\n",
       "      <td>2.603325e+03</td>\n",
       "      <td>2.601000e+03</td>\n",
       "      <td>2.602110e+03</td>\n",
       "      <td>1.445203e+00</td>\n",
       "      <td>5.629643e+03</td>\n",
       "      <td>2.602054e+03</td>\n",
       "    </tr>\n",
       "    <tr>\n",
       "      <th>50%</th>\n",
       "      <td>6.239900e+03</td>\n",
       "      <td>6.240510e+03</td>\n",
       "      <td>6.238000e+03</td>\n",
       "      <td>6.239930e+03</td>\n",
       "      <td>3.887598e+00</td>\n",
       "      <td>1.702009e+04</td>\n",
       "      <td>6.239751e+03</td>\n",
       "    </tr>\n",
       "    <tr>\n",
       "      <th>75%</th>\n",
       "      <td>7.687840e+03</td>\n",
       "      <td>7.690000e+03</td>\n",
       "      <td>7.684990e+03</td>\n",
       "      <td>7.687870e+03</td>\n",
       "      <td>1.017537e+01</td>\n",
       "      <td>5.296919e+04</td>\n",
       "      <td>7.687562e+03</td>\n",
       "    </tr>\n",
       "    <tr>\n",
       "      <th>max</th>\n",
       "      <td>1.989199e+04</td>\n",
       "      <td>1.989199e+04</td>\n",
       "      <td>1.989198e+04</td>\n",
       "      <td>1.989199e+04</td>\n",
       "      <td>1.156319e+03</td>\n",
       "      <td>1.997076e+07</td>\n",
       "      <td>1.989199e+04</td>\n",
       "    </tr>\n",
       "  </tbody>\n",
       "</table>\n",
       "</div>"
      ],
      "text/plain": [
       "               Open          High           Low         Close  Volume_(BTC)  \\\n",
       "count  1.038595e+06  1.038595e+06  1.038595e+06  1.038595e+06  1.038595e+06   \n",
       "mean   5.793113e+03  5.795738e+03  5.790272e+03  5.793112e+03  9.962399e+00   \n",
       "std    3.736820e+03  3.739472e+03  3.734008e+03  3.736814e+03  2.096921e+01   \n",
       "min    6.000000e-02  6.000000e-02  6.000000e-02  6.000000e-02  8.000000e-08   \n",
       "25%    2.602120e+03  2.603325e+03  2.601000e+03  2.602110e+03  1.445203e+00   \n",
       "50%    6.239900e+03  6.240510e+03  6.238000e+03  6.239930e+03  3.887598e+00   \n",
       "75%    7.687840e+03  7.690000e+03  7.684990e+03  7.687870e+03  1.017537e+01   \n",
       "max    1.989199e+04  1.989199e+04  1.989198e+04  1.989199e+04  1.156319e+03   \n",
       "\n",
       "       Volume_(Currency)  Weighted_Price  \n",
       "count       1.038595e+06    1.038595e+06  \n",
       "mean        6.672801e+04    5.793001e+03  \n",
       "std         1.887004e+05    3.736744e+03  \n",
       "min         6.595840e-05    6.000000e-02  \n",
       "25%         5.629643e+03    2.602054e+03  \n",
       "50%         1.702009e+04    6.239751e+03  \n",
       "75%         5.296919e+04    7.687562e+03  \n",
       "max         1.997076e+07    1.989199e+04  "
      ]
     },
     "execution_count": 9,
     "metadata": {},
     "output_type": "execute_result"
    }
   ],
   "source": [
    "CoinB_wannaCry.describe()"
   ]
  },
  {
   "cell_type": "code",
   "execution_count": 7,
   "metadata": {},
   "outputs": [],
   "source": [
    "bitstamp.to_csv('bitstamp_filled.csv')\n",
    "coinbase.to_csv('coinbase_filled.csv')"
   ]
  }
 ],
 "metadata": {
  "kernelspec": {
   "display_name": "Python 3",
   "language": "python",
   "name": "python3"
  },
  "language_info": {
   "codemirror_mode": {
    "name": "ipython",
    "version": 3
   },
   "file_extension": ".py",
   "mimetype": "text/x-python",
   "name": "python",
   "nbconvert_exporter": "python",
   "pygments_lexer": "ipython3",
   "version": "3.7.6-final"
  }
 },
 "nbformat": 4,
 "nbformat_minor": 4
}